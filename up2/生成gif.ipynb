{
 "cells": [
  {
   "cell_type": "code",
   "execution_count": 1,
   "metadata": {},
   "outputs": [],
   "source": [
    "from PIL import Image\n",
    "import os\n"
   ]
  },
  {
   "cell_type": "code",
   "execution_count": 2,
   "metadata": {},
   "outputs": [],
   "source": [
    "def create_gif_from_images(folder_path, output_gif_path, duration=250):\n",
    "    # 获取文件夹中的所有图片文件\n",
    "    files = [f for f in os.listdir(folder_path) if f.endswith('.png')]\n",
    "    \n",
    "    # 按时间排序文件\n",
    "    files.sort()\n",
    "    \n",
    "    images = []\n",
    "    for file in files:\n",
    "        file_path = os.path.join(folder_path, file)\n",
    "        img = Image.open(file_path)\n",
    "        images.append(img)\n",
    "    \n",
    "    # 保存为GIF\n",
    "    images[0].save(output_gif_path, save_all=True, append_images=images[1:], optimize=False, duration=duration, loop=0)\n",
    "\n",
    "# 使用示例\n",
    "create_gif_from_images(r'C:\\Users\\haokw\\Documents\\GitHub\\gaolu\\up2\\data\\train_output_picture\\WGAN_training_output_all_data', \n",
    "                        'WGAN_all_data.gif')\n"
   ]
  },
  {
   "cell_type": "code",
   "execution_count": 5,
   "metadata": {},
   "outputs": [],
   "source": [
    "def create_gif_from_images(folder_path, output_gif_path, duration=250):\n",
    "    # 获取文件夹中的所有图片文件\n",
    "    files = [f for f in os.listdir(folder_path) if f.endswith('.png')]\n",
    "    \n",
    "    # 按时间排序文件\n",
    "    files.sort()\n",
    "    \n",
    "    images = []\n",
    "    for file in files:\n",
    "        file_path = os.path.join(folder_path, file)\n",
    "        img = Image.open(file_path)\n",
    "        images.append(img)\n",
    "    \n",
    "    # 保存为GIF\n",
    "    images[0].save(output_gif_path, save_all=True, append_images=images[1:], optimize=False, duration=duration, loop=0)\n",
    "\n",
    "# 使用示例\n",
    "create_gif_from_images(r'C:\\Users\\haokw\\Documents\\GitHub\\gaolu\\up2\\data\\train_output_picture\\LS-GAN_training_output_all_data', \n",
    "                        'LSGAN_all_data.gif')\n"
   ]
  }
 ],
 "metadata": {
  "kernelspec": {
   "display_name": "py39_tf",
   "language": "python",
   "name": "python3"
  },
  "language_info": {
   "codemirror_mode": {
    "name": "ipython",
    "version": 3
   },
   "file_extension": ".py",
   "mimetype": "text/x-python",
   "name": "python",
   "nbconvert_exporter": "python",
   "pygments_lexer": "ipython3",
   "version": "3.9.18"
  }
 },
 "nbformat": 4,
 "nbformat_minor": 2
}
