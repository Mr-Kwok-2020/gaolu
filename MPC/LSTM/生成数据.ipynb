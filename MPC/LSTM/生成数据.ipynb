{
 "cells": [
  {
   "cell_type": "code",
   "execution_count": 3,
   "metadata": {},
   "outputs": [],
   "source": [
    "# 库文件\n",
    "import numpy as np\n",
    "import numpy as np\n",
    "import matplotlib.pyplot as plt\n",
    "import warnings\n",
    "warnings.filterwarnings(\"ignore\", category=UserWarning)\n",
    "warnings.filterwarnings(\"ignore\", category=FutureWarning)\n",
    "import torch\n",
    "import torch.nn as nn\n",
    "import torch.optim as optim\n",
    "from sklearn.model_selection import train_test_split\n",
    "from sklearn.preprocessing import StandardScaler\n",
    "import numpy as np\n",
    "from skopt import gp_minimize\n",
    "from sklearn.svm import SVR\n",
    "from sklearn.metrics import mean_squared_error\n",
    "from sklearn.model_selection import train_test_split\n",
    "import numpy as np\n",
    "from scipy.optimize import minimize\n",
    "from sklearn.metrics import mean_squared_error\n",
    "from sklearn.model_selection import train_test_split\n",
    "\n",
    "\n",
    "import numpy as np\n",
    "from scipy.optimize import minimize\n",
    "from sklearn.metrics import mean_squared_error\n",
    "from sklearn.metrics.pairwise import rbf_kernel\n",
    "from sklearn.model_selection import train_test_split\n",
    "\n",
    "import numpy as np\n",
    "from scipy.optimize import minimize\n",
    "from sklearn.metrics.pairwise import rbf_kernel\n",
    "\n",
    "\n",
    "\n",
    "import pandas as pd\n"
   ]
  },
  {
   "cell_type": "code",
   "execution_count": 6,
   "metadata": {},
   "outputs": [
    {
     "name": "stdout",
     "output_type": "stream",
     "text": [
      "u1_data (602,)\n",
      "u2_data (602,)\n",
      "y1_data (602,)\n",
      "y2_data (602,)\n"
     ]
    }
   ],
   "source": [
    "#差分方程  # 生成数据\n",
    "def nonlinear_system(y1_k, y2_k, u1_k, u2_k, u1_k_1, u2_k_1):\n",
    "    # 生成噪声\n",
    "    noise_level = 0.0001\n",
    "    noise1 = np.random.normal(loc=0, scale=np.sqrt(noise_level))\n",
    "    noise2 = np.random.normal(loc=0, scale=np.sqrt(noise_level))\n",
    "    # 计算输出\n",
    "    output1 = y1_k / (1 + y2_k**2) + u1_k + 0.2 * u2_k + 0.4 * u1_k_1 + 0.1 * u2_k_1 + noise1\n",
    "    output2 = y1_k * y2_k / (1 + y2_k**2) + 0.3 * u1_k + u2_k + 0.1 * u1_k_1 + 0.5 * u2_k_1 + noise2\n",
    "    return output1, output2\n",
    "\n",
    "\n",
    "# 参数设置\n",
    "num_samples = 602\n",
    "y1_data, y2_data = np.zeros(num_samples), np.zeros(num_samples)\n",
    "\n",
    "# 初始化初始条件\n",
    "y1_data[0], y2_data[0] = 1.0, 0.5\n",
    "\n",
    "# 生成输入数据在[-1, 1]之间\n",
    "u1_data = np.random.uniform(-1, 1, num_samples)\n",
    "u2_data = np.random.uniform(-1, 1, num_samples)\n",
    "u1_data_1 = np.roll(u1_data, 1)\n",
    "u2_data_1 = np.roll(u2_data, 1)\n",
    "u1_data_1[0], u2_data_1[0] = 0, 0  # 设置第一个时刻的上一个时刻输入为0\n",
    "\n",
    "# 生成数据\n",
    "for k in range(0, num_samples-1):\n",
    "    y1_data[k+1], y2_data[k+1] = nonlinear_system(y1_data[k], y2_data[k], u1_data[k], u2_data[k], u1_data_1[k], u2_data_1[k])\n",
    "\n",
    "print('u1_data',u1_data.shape)\n",
    "print('u2_data',u1_data.shape)\n",
    "print('y1_data',u1_data.shape)\n",
    "print('y2_data',u1_data.shape)\n",
    "\n",
    "# 创建一个 DataFrame\n",
    "df = pd.DataFrame({\n",
    "    'u1': u1_data,\n",
    "    'u2': u2_data,\n",
    "    'y1': y1_data,\n",
    "    'y2': y2_data\n",
    "})\n",
    "# 将数据保存到 Excel 文件\n",
    "df.to_excel('data.xlsx', index=False)\n"
   ]
  },
  {
   "cell_type": "code",
   "execution_count": null,
   "metadata": {},
   "outputs": [],
   "source": []
  }
 ],
 "metadata": {
  "kernelspec": {
   "display_name": "py39_tf",
   "language": "python",
   "name": "python3"
  },
  "language_info": {
   "codemirror_mode": {
    "name": "ipython",
    "version": 3
   },
   "file_extension": ".py",
   "mimetype": "text/x-python",
   "name": "python",
   "nbconvert_exporter": "python",
   "pygments_lexer": "ipython3",
   "version": "3.9.18"
  }
 },
 "nbformat": 4,
 "nbformat_minor": 2
}
