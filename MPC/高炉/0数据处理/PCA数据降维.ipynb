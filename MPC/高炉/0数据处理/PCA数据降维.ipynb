{
 "cells": [
  {
   "cell_type": "code",
   "execution_count": 1,
   "metadata": {},
   "outputs": [],
   "source": [
    "# 库文件\n",
    "import numpy as np\n",
    "import matplotlib.pyplot as plt\n",
    "import warnings\n",
    "warnings.filterwarnings(\"ignore\", category=UserWarning)\n",
    "warnings.filterwarnings(\"ignore\", category=FutureWarning)\n",
    "from sklearn.model_selection import train_test_split\n",
    "from sklearn.preprocessing import StandardScaler\n",
    "from skopt import gp_minimize\n",
    "from sklearn.svm import SVR\n",
    "from sklearn.metrics import mean_squared_error\n",
    "from scipy.optimize import minimize\n",
    "from sklearn.metrics.pairwise import rbf_kernel\n",
    "import pandas as pd\n",
    "import tensorflow as tf\n",
    "import torch\n",
    "import torch.nn as nn\n",
    "import torch.optim as optim\n",
    "import matplotlib.pyplot as plt\n",
    "from matplotlib.font_manager import FontProperties\n",
    "# 设置中文字体\n",
    "font = FontProperties(fname=r\"c:\\windows\\fonts\\simsun.ttc\", size=12)  # 替换为你的中文字体文件路径\n",
    "from sklearn.preprocessing import StandardScaler\n"
   ]
  },
  {
   "cell_type": "code",
   "execution_count": 4,
   "metadata": {},
   "outputs": [
    {
     "data": {
      "text/plain": [
       "Index(['P插补', 'SI插补', '铁口1温度插补', '主参数时间戳', '富氧率', '透气性指数', 'CO', 'H2', 'CO2',\n",
       "       '标准风速', '富氧流量', '冷风流量', '鼓风动能', '炉腹煤气量', '炉腹煤气指数', '理论燃烧温度', '顶压',\n",
       "       '富氧压力', '冷风压力', '全压差', '热风压力', '实际风速', '热风温度', '顶温东北', '顶温西南', '顶温西北',\n",
       "       '顶温东南', '阻力系数', '鼓风湿度', '设定喷煤量', '上小时喷煤量'],\n",
       "      dtype='object')"
      ]
     },
     "execution_count": 4,
     "metadata": {},
     "output_type": "execute_result"
    }
   ],
   "source": [
    "# 读取Excel文件\n",
    "excel_path = f'C:\\\\Users\\\\haokw\\\\Documents\\\\GitHub\\\\gaolu\\\\MPC\\\\高炉\\\\0数据\\\\数据-时间戳.xlsx'\n",
    "df_sheet = pd.read_excel(excel_path, sheet_name='Sheet4') \n",
    "df_sheet.columns\n"
   ]
  },
  {
   "cell_type": "code",
   "execution_count": 9,
   "metadata": {},
   "outputs": [
    {
     "name": "stdout",
     "output_type": "stream",
     "text": [
      "被选中的特征： Index(['P插补', '富氧率', '富氧流量', '冷风流量', '冷风压力', '热风温度', '设定喷煤量'], dtype='object')\n"
     ]
    }
   ],
   "source": [
    "from sklearn.feature_selection import SelectKBest, f_regression\n",
    "\n",
    "# 假设 df_sheet 是你的数据框架\n",
    "X = df_sheet.drop(['SI插补', '铁口1温度插补', '主参数时间戳', '透气性指数', 'CO', 'H2', 'CO2', '标准风速',\\\n",
    "       '鼓风动能', '炉腹煤气量', '炉腹煤气指数', '理论燃烧温度', '顶压',\\\n",
    "       '全压差','实际风速', '顶温东北', '顶温西南', '顶温西北', '顶温东南',\\\n",
    "       '阻力系数', '鼓风湿度', '上小时喷煤量'], axis=1)  # 输入特征\n",
    "\n",
    "y = df_sheet['SI插补']  # 假设 'SI插补' 是目标变量\n",
    "\n",
    "# 选择 k=4 个最好的特征\n",
    "selector = SelectKBest(f_regression, k=7)\n",
    "X_new = selector.fit_transform(X, y)\n",
    "\n",
    "# 获取被选中的特征的列名\n",
    "selected_features = X.columns[selector.get_support()]\n",
    "\n",
    "# 打印被选中的特征\n",
    "print(\"被选中的特征：\", selected_features)\n"
   ]
  },
  {
   "cell_type": "code",
   "execution_count": 10,
   "metadata": {},
   "outputs": [
    {
     "name": "stdout",
     "output_type": "stream",
     "text": [
      "Top features: ['铁口1温度插补', 'SI插补', '冷风流量', '标准风速', '热风温度', '设定喷煤量', '上小时喷煤量', '实际风速', '热风压力', '全压差', '冷风压力', '鼓风动能', '富氧压力', '鼓风湿度', '顶温东南', '炉腹煤气量', '炉腹煤气指数', 'CO', '顶温西南', '主参数时间戳', 'P插补', '阻力系数', 'H2', '透气性指数', 'CO2', '顶温东北', '理论燃烧温度', '富氧流量', '顶温西北', '顶压', '富氧率']\n",
      "Correlation values:\n",
      "铁口1温度插补    1.000000\n",
      "SI插补       0.371647\n",
      "冷风流量       0.283416\n",
      "标准风速       0.282728\n",
      "热风温度       0.223820\n",
      "设定喷煤量      0.215069\n",
      "上小时喷煤量     0.211787\n",
      "实际风速       0.199947\n",
      "热风压力       0.169139\n",
      "全压差        0.164020\n",
      "冷风压力       0.149927\n",
      "鼓风动能       0.147908\n",
      "富氧压力       0.134608\n",
      "鼓风湿度       0.117679\n",
      "顶温东南       0.113958\n",
      "炉腹煤气量      0.110920\n",
      "炉腹煤气指数     0.110900\n",
      "CO         0.075153\n",
      "顶温西南       0.073527\n",
      "主参数时间戳     0.073018\n",
      "P插补        0.071704\n",
      "阻力系数       0.066931\n",
      "H2         0.065323\n",
      "透气性指数      0.053399\n",
      "Name: 铁口1温度插补, dtype: float64\n"
     ]
    }
   ],
   "source": [
    "# 计算每个参数与高炉温度的相关性\n",
    "correlations = df_sheet.corr()['铁口1温度插补'].abs().sort_values(ascending=False)\n",
    "\n",
    "# 选择最相关的前几个参数\n",
    "top_features = correlations.index.tolist()\n",
    "# 打印最相关的参数\n",
    "print(\"Top features:\", top_features)\n",
    "# 查看具体相关性数值\n",
    "print(\"Correlation values:\")\n",
    "print(correlations.head(24))\n"
   ]
  }
 ],
 "metadata": {
  "kernelspec": {
   "display_name": "py39_tf",
   "language": "python",
   "name": "python3"
  },
  "language_info": {
   "codemirror_mode": {
    "name": "ipython",
    "version": 3
   },
   "file_extension": ".py",
   "mimetype": "text/x-python",
   "name": "python",
   "nbconvert_exporter": "python",
   "pygments_lexer": "ipython3",
   "version": "3.9.18"
  }
 },
 "nbformat": 4,
 "nbformat_minor": 2
}
