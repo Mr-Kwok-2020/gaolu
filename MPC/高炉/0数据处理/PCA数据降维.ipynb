{
 "cells": [
  {
   "cell_type": "code",
   "execution_count": 2,
   "metadata": {},
   "outputs": [],
   "source": [
    "# 库文件\n",
    "import numpy as np\n",
    "import matplotlib.pyplot as plt\n",
    "import warnings\n",
    "warnings.filterwarnings(\"ignore\", category=UserWarning)\n",
    "warnings.filterwarnings(\"ignore\", category=FutureWarning)\n",
    "from sklearn.model_selection import train_test_split\n",
    "from sklearn.preprocessing import StandardScaler\n",
    "from skopt import gp_minimize\n",
    "from sklearn.svm import SVR\n",
    "from sklearn.metrics import mean_squared_error\n",
    "from scipy.optimize import minimize\n",
    "from sklearn.metrics.pairwise import rbf_kernel\n",
    "import pandas as pd\n",
    "import tensorflow as tf\n",
    "import torch\n",
    "import torch.nn as nn\n",
    "import torch.optim as optim\n",
    "import matplotlib.pyplot as plt\n",
    "from matplotlib.font_manager import FontProperties\n",
    "# 设置中文字体\n",
    "font = FontProperties(fname=r\"c:\\windows\\fonts\\simsun.ttc\", size=12)  # 替换为你的中文字体文件路径\n",
    "from sklearn.preprocessing import StandardScaler\n"
   ]
  },
  {
   "cell_type": "code",
   "execution_count": 3,
   "metadata": {},
   "outputs": [
    {
     "name": "stdout",
     "output_type": "stream",
     "text": [
      "<class 'pandas.core.frame.DataFrame'>\n",
      "RangeIndex: 7398 entries, 0 to 7397\n",
      "Data columns (total 20 columns):\n",
      " #   Column       Non-Null Count  Dtype  \n",
      "---  ------       --------------  -----  \n",
      " 0   时间戳          7398 non-null   float64\n",
      " 1   铁口1温度        7398 non-null   float64\n",
      " 2   时间戳.1        7398 non-null   float64\n",
      " 3   P            7398 non-null   float64\n",
      " 4   Unnamed: 4   0 non-null      float64\n",
      " 5   时间戳.2        7398 non-null   float64\n",
      " 6   SI           7398 non-null   float64\n",
      " 7   Unnamed: 7   0 non-null      float64\n",
      " 8   主参数时间戳       7398 non-null   float64\n",
      " 9   冷风压力         7398 non-null   float64\n",
      " 10  Unnamed: 10  0 non-null      float64\n",
      " 11  Unnamed: 11  0 non-null      float64\n",
      " 12  时间戳.3        7398 non-null   float64\n",
      " 13  冷风流量         7398 non-null   float64\n",
      " 14  Unnamed: 14  0 non-null      float64\n",
      " 15  时间戳.4        7398 non-null   float64\n",
      " 16  热风温度         7398 non-null   float64\n",
      " 17  Unnamed: 17  0 non-null      float64\n",
      " 18  时间戳.5        7398 non-null   float64\n",
      " 19  设定喷煤量        7398 non-null   float64\n",
      "dtypes: float64(20)\n",
      "memory usage: 1.1 MB\n",
      "None\n",
      "Index(['时间戳', '铁口1温度', '时间戳.1', 'P', 'Unnamed: 4', '时间戳.2', 'SI', 'Unnamed: 7',\n",
      "       '主参数时间戳', '冷风压力', 'Unnamed: 10', 'Unnamed: 11', '时间戳.3', '冷风流量',\n",
      "       'Unnamed: 14', '时间戳.4', '热风温度', 'Unnamed: 17', '时间戳.5', '设定喷煤量'],\n",
      "      dtype='object')\n"
     ]
    }
   ],
   "source": [
    "# 读取Excel文件\n",
    "excel_path = f'C:\\\\Users\\\\haokw\\\\Documents\\\\GitHub\\\\gaolu\\\\MPC\\\\高炉\\\\0数据处理\\\\趋势变量+噪声变量\\\\趋势变量加随机噪声-专用数据1.xlsx'\n",
    "df_sheet = pd.read_excel(excel_path, sheet_name='建模-分量-全部') \n",
    "# excel_path = f'C:\\\\Users\\\\haokw\\\\Documents\\\\GitHub\\\\gaolu\\\\MPC\\\\高炉\\\\0数据\\\\数据-时间戳.xlsx'\n",
    "# df_sheet = pd.read_excel(excel_path, sheet_name='Sheet4') \n",
    "# excel_path = f'C:\\\\Users\\\\haokw\\\\Documents\\\\GitHub\\\\gaolu\\\\MPC\\\\高炉\\\\0数据\\\\原始数据摘要.xlsx'\n",
    "# df_sheet = pd.read_excel(excel_path, sheet_name='Sheet1') \n",
    "# excel_path = f'C:\\\\Users\\\\haokw\\\\Documents\\\\GitHub\\\\gaolu\\\\MPC\\\\高炉\\\\0数据\\\\原始数据摘要.xlsx'\n",
    "# df_sheet = pd.read_excel(excel_path, sheet_name='建模') \n",
    "# excel_path = f'C:\\\\Users\\\\haokw\\\\Documents\\\\GitHub\\\\gaolu\\\\MPC\\\\高炉\\\\0数据\\\\原始数据摘要.xlsx'\n",
    "# df_sheet = pd.read_excel(excel_path, sheet_name='建模-分量') \n",
    "\n",
    "\n",
    "print(df_sheet.info())\n",
    "print(df_sheet.columns)\n"
   ]
  },
  {
   "cell_type": "code",
   "execution_count": 9,
   "metadata": {},
   "outputs": [
    {
     "name": "stdout",
     "output_type": "stream",
     "text": [
      "被选中的特征： Index(['P插补', '富氧率', '富氧流量', '冷风流量', '冷风压力', '热风温度', '设定喷煤量'], dtype='object')\n"
     ]
    }
   ],
   "source": [
    "from sklearn.feature_selection import SelectKBest, f_regression\n",
    "\n",
    "# 假设 df_sheet 是你的数据框架\n",
    "X = df_sheet.drop('时间戳', '时间戳.1',  'Unnamed: 4', '时间戳.2', 'Unnamed: 7',\n",
    "       '主参数时间戳',  'Unnamed: 10', 'Unnamed: 11', '时间戳.3', \n",
    "       'Unnamed: 14', '时间戳.4', '热风温度', 'Unnamed: 17', '时间戳.5', '设定喷煤量'], axis=1)  # 输入特征\n",
    "\n",
    "y = df_sheet['SI插补']  # 假设 'SI插补' 是目标变量\n",
    "\n",
    "# 选择 k=4 个最好的特征\n",
    "selector = SelectKBest(f_regression, k=7)\n",
    "X_new = selector.fit_transform(X, y)\n",
    "\n",
    "# 获取被选中的特征的列名\n",
    "selected_features = X.columns[selector.get_support()]\n",
    "\n",
    "# 打印被选中的特征\n",
    "print(\"被选中的特征：\", selected_features)\n"
   ]
  },
  {
   "cell_type": "code",
   "execution_count": 10,
   "metadata": {},
   "outputs": [
    {
     "name": "stdout",
     "output_type": "stream",
     "text": [
      "Top features: ['铁口1温度插补', 'SI插补', '冷风流量', '标准风速', '热风温度', '设定喷煤量', '上小时喷煤量', '实际风速', '热风压力', '全压差', '冷风压力', '鼓风动能', '富氧压力', '鼓风湿度', '顶温东南', '炉腹煤气量', '炉腹煤气指数', 'CO', '顶温西南', '主参数时间戳', 'P插补', '阻力系数', 'H2', '透气性指数', 'CO2', '顶温东北', '理论燃烧温度', '富氧流量', '顶温西北', '顶压', '富氧率']\n",
      "Correlation values:\n",
      "铁口1温度插补    1.000000\n",
      "SI插补       0.371647\n",
      "冷风流量       0.283416\n",
      "标准风速       0.282728\n",
      "热风温度       0.223820\n",
      "设定喷煤量      0.215069\n",
      "上小时喷煤量     0.211787\n",
      "实际风速       0.199947\n",
      "热风压力       0.169139\n",
      "全压差        0.164020\n",
      "冷风压力       0.149927\n",
      "鼓风动能       0.147908\n",
      "富氧压力       0.134608\n",
      "鼓风湿度       0.117679\n",
      "顶温东南       0.113958\n",
      "炉腹煤气量      0.110920\n",
      "炉腹煤气指数     0.110900\n",
      "CO         0.075153\n",
      "顶温西南       0.073527\n",
      "主参数时间戳     0.073018\n",
      "P插补        0.071704\n",
      "阻力系数       0.066931\n",
      "H2         0.065323\n",
      "透气性指数      0.053399\n",
      "Name: 铁口1温度插补, dtype: float64\n"
     ]
    }
   ],
   "source": [
    "# 计算每个参数与高炉温度的相关性\n",
    "correlations = df_sheet.corr()['铁口1温度插补'].abs().sort_values(ascending=False)\n",
    "\n",
    "# 选择最相关的前几个参数\n",
    "top_features = correlations.index.tolist()\n",
    "# 打印最相关的参数\n",
    "print(\"Top features:\", top_features)\n",
    "# 查看具体相关性数值\n",
    "print(\"Correlation values:\")\n",
    "print(correlations.head(24))\n"
   ]
  }
 ],
 "metadata": {
  "kernelspec": {
   "display_name": "py39_tf",
   "language": "python",
   "name": "python3"
  },
  "language_info": {
   "codemirror_mode": {
    "name": "ipython",
    "version": 3
   },
   "file_extension": ".py",
   "mimetype": "text/x-python",
   "name": "python",
   "nbconvert_exporter": "python",
   "pygments_lexer": "ipython3",
   "version": "3.9.18"
  }
 },
 "nbformat": 4,
 "nbformat_minor": 2
}
