{
 "cells": [
  {
   "cell_type": "code",
   "execution_count": 1,
   "metadata": {},
   "outputs": [],
   "source": [
    "# 库文件\n",
    "import numpy as np\n",
    "import matplotlib.pyplot as plt\n",
    "import warnings\n",
    "warnings.filterwarnings(\"ignore\", category=UserWarning)\n",
    "warnings.filterwarnings(\"ignore\", category=FutureWarning)\n",
    "import torch\n",
    "import torch.nn as nn\n",
    "import torch.optim as optim\n",
    "from sklearn.model_selection import train_test_split\n",
    "from sklearn.preprocessing import StandardScaler\n",
    "from skopt import gp_minimize\n",
    "from sklearn.svm import SVR\n",
    "from sklearn.metrics import mean_squared_error\n",
    "from scipy.optimize import minimize\n",
    "from sklearn.metrics.pairwise import rbf_kernel\n",
    "import pandas as pd\n",
    "\n",
    "from matplotlib.font_manager import FontProperties\n",
    "# 设置中文字体\n",
    "font = FontProperties(fname=r\"c:\\windows\\fonts\\simsun.ttc\", size=12)  # 替换为你的中文字体文件路径\n",
    "\n",
    "import sys\n",
    "sys.path.append(r\"C:\\Users\\haokw\\Documents\\GitHub\\gaolu\\MPC\\高炉\")\n",
    "import base \n"
   ]
  },
  {
   "cell_type": "code",
   "execution_count": 2,
   "metadata": {},
   "outputs": [],
   "source": [
    "# 读取Excel文件\n",
    "\n",
    "excel_path = f'C:\\\\Users\\\\haokw\\\\Documents\\\\GitHub\\\\gaolu\\\\MPC\\\\高炉\\\\0数据处理\\\\新输入输出模式\\\\1h_mean.xlsx'\n",
    "df_sheet_params = pd.read_excel(excel_path, sheet_name='1h_mean_all') \n",
    "\n",
    "# print(df_sheet_params.info())\n",
    "# print(df_sheet_params.columns)\n",
    "\n"
   ]
  },
  {
   "cell_type": "code",
   "execution_count": 3,
   "metadata": {},
   "outputs": [
    {
     "name": "stdout",
     "output_type": "stream",
     "text": [
      "<class 'pandas.core.frame.DataFrame'>\n",
      "RangeIndex: 7377 entries, 0 to 7376\n",
      "Data columns (total 38 columns):\n",
      " #   Column    Non-Null Count  Dtype         \n",
      "---  ------    --------------  -----         \n",
      " 0   主参数时间戳    7377 non-null   datetime64[ns]\n",
      " 1   主参数时间戳2   7377 non-null   int64         \n",
      " 2   时间戳h      7377 non-null   int64         \n",
      " 3   富氧率       7377 non-null   float64       \n",
      " 4   透气性指数     7377 non-null   float64       \n",
      " 5   CO        7377 non-null   float64       \n",
      " 6   H2        7377 non-null   float64       \n",
      " 7   CO2       7377 non-null   float64       \n",
      " 8   标准风速      7377 non-null   float64       \n",
      " 9   富氧流量      7377 non-null   float64       \n",
      " 10  冷风流量      7377 non-null   float64       \n",
      " 11  鼓风动能      7377 non-null   float64       \n",
      " 12  炉腹煤气量     7377 non-null   float64       \n",
      " 13  炉腹煤气指数    7377 non-null   float64       \n",
      " 14  理论燃烧温度    7377 non-null   float64       \n",
      " 15  顶压        7377 non-null   float64       \n",
      " 16  顶压2       7377 non-null   float64       \n",
      " 17  顶压3       7377 non-null   float64       \n",
      " 18  顶压4       7377 non-null   float64       \n",
      " 19  富氧压力      7377 non-null   float64       \n",
      " 20  冷风压力      7377 non-null   float64       \n",
      " 21  冷风压力2     7377 non-null   float64       \n",
      " 22  全压差       7377 non-null   float64       \n",
      " 23  热风压力      7377 non-null   float64       \n",
      " 24  热风压力2     7377 non-null   float64       \n",
      " 25  实际风速      7377 non-null   float64       \n",
      " 26  冷风温度      7377 non-null   float64       \n",
      " 27  热风温度      7377 non-null   float64       \n",
      " 28  顶温东北      7377 non-null   float64       \n",
      " 29  顶温西南      7377 non-null   float64       \n",
      " 30  顶温西北      7377 non-null   float64       \n",
      " 31  顶温东南      7377 non-null   float64       \n",
      " 32  顶温下降管     7377 non-null   float64       \n",
      " 33  阻力系数      7377 non-null   float64       \n",
      " 34  鼓风湿度      7377 non-null   float64       \n",
      " 35  设定喷煤量     7377 non-null   float64       \n",
      " 36  本小时实际喷煤量  7377 non-null   float64       \n",
      " 37  上小时实际喷煤量  7377 non-null   float64       \n",
      "dtypes: datetime64[ns](1), float64(35), int64(2)\n",
      "memory usage: 2.1 MB\n"
     ]
    }
   ],
   "source": [
    "df_sheet_params.info()\n"
   ]
  },
  {
   "cell_type": "code",
   "execution_count": 4,
   "metadata": {},
   "outputs": [
    {
     "name": "stdout",
     "output_type": "stream",
     "text": [
      "<class 'pandas.core.frame.DataFrame'>\n",
      "RangeIndex: 7377 entries, 0 to 7376\n",
      "Data columns (total 9 columns):\n",
      " #   Column  Non-Null Count  Dtype  \n",
      "---  ------  --------------  -----  \n",
      " 0   富氧流量    7377 non-null   float64\n",
      " 1   冷风流量    7377 non-null   float64\n",
      " 2   富氧压力    7377 non-null   float64\n",
      " 3   冷风压力    7377 non-null   float64\n",
      " 4   热风压力    7377 non-null   float64\n",
      " 5   冷风温度    7377 non-null   float64\n",
      " 6   热风温度    7377 non-null   float64\n",
      " 7   鼓风湿度    7377 non-null   float64\n",
      " 8   设定喷煤量   7377 non-null   float64\n",
      "dtypes: float64(9)\n",
      "memory usage: 518.8 KB\n"
     ]
    }
   ],
   "source": [
    "df = df_sheet_params.copy()\n",
    "df.drop(columns=['主参数时间戳','主参数时间戳2','时间戳h', '透气性指数', 'CO', 'H2', 'CO2', '标准风速', '鼓风动能','炉腹煤气量',\n",
    "                '炉腹煤气指数', '理论燃烧温度', '顶压', '顶压2', '顶压3', '顶压4', '全压差',\n",
    "                '实际风速','顶温东北', '顶温西南', '顶温西北', '顶温东南', '顶温下降管', '阻力系数',\n",
    "                '本小时实际喷煤量', '上小时实际喷煤量','富氧率', '冷风压力2', '热风压力2'], inplace=True)\n",
    "df.info()\n",
    "data = df.values\n"
   ]
  },
  {
   "cell_type": "code",
   "execution_count": 5,
   "metadata": {},
   "outputs": [
    {
     "data": {
      "text/plain": [
       "array(['富氧流量', '冷风流量', '富氧压力', '冷风压力', '热风压力', '冷风温度', '热风温度', '鼓风湿度',\n",
       "       '设定喷煤量'], dtype=object)"
      ]
     },
     "execution_count": 5,
     "metadata": {},
     "output_type": "execute_result"
    }
   ],
   "source": [
    "df.columns.values\n"
   ]
  },
  {
   "cell_type": "code",
   "execution_count": 6,
   "metadata": {},
   "outputs": [
    {
     "data": {
      "text/plain": [
       "(7377, 9)"
      ]
     },
     "execution_count": 6,
     "metadata": {},
     "output_type": "execute_result"
    }
   ],
   "source": [
    "data.shape\n"
   ]
  },
  {
   "cell_type": "code",
   "execution_count": 7,
   "metadata": {},
   "outputs": [
    {
     "name": "stdout",
     "output_type": "stream",
     "text": [
      "主成分1与以下物理变量最相关： ['富氧流量', '热风温度', '冷风温度', '鼓风湿度', '设定喷煤量', '冷风流量', '富氧压力', '冷风压力', '热风压力']\n",
      "主成分2与以下物理变量最相关： ['热风温度', '冷风温度', '冷风流量', '设定喷煤量', '鼓风湿度', '设定喷煤量', '冷风流量', '热风压力', '冷风压力']\n",
      "主成分3与以下物理变量最相关： ['设定喷煤量', '设定喷煤量', '设定喷煤量', '冷风流量', '冷风温度', '鼓风湿度', '设定喷煤量', '冷风流量', '冷风流量']\n",
      "主成分4与以下物理变量最相关： ['冷风温度', '富氧流量', '热风温度', '冷风温度', '冷风流量', '冷风温度', '鼓风湿度', '富氧压力', '鼓风湿度']\n",
      "主成分5与以下物理变量最相关： ['鼓风湿度', '鼓风湿度', '鼓风湿度', '热风温度', '热风温度', '热风温度', '冷风压力', '设定喷煤量', '冷风温度']\n",
      "主成分6与以下物理变量最相关： ['冷风流量', '冷风流量', '冷风压力', '富氧压力', '富氧压力', '热风压力', '热风压力', '鼓风湿度', '富氧压力']\n",
      "主成分7与以下物理变量最相关： ['冷风压力', '富氧压力', '热风压力', '冷风压力', '热风压力', '冷风压力', '冷风温度', '冷风温度', '设定喷煤量']\n"
     ]
    }
   ],
   "source": [
    "import numpy as np\n",
    "from sklearn.decomposition import PCA\n",
    "\n",
    "# 示例数据\n",
    "# data = np.random.rand(100, 16)  # 假设有100个样本，每个样本16个维度的数据\n",
    "\n",
    "# 进行PCA降维\n",
    "pca = PCA()\n",
    "pca.fit(data)\n",
    "\n",
    "# 计算因子载荷矩阵\n",
    "factor_loadings = pca.components_.T * np.sqrt(pca.explained_variance_)\n",
    "\n",
    "# 物理变量的名称列表\n",
    "feature_names = df.columns.values # 假设已经定义了原始物理变量的名称列表\n",
    "\n",
    "# 将因子载荷矩阵的绝对值排序，并找出与主成分最相关的前6个物理变量\n",
    "top_features_indices = np.argsort(np.abs(factor_loadings), axis=0)[::-1][:7, :]\n",
    "top_features = [[feature_names[idx] for idx in indices] for indices in top_features_indices]\n",
    "\n",
    "# 输出与主成分最关联的物理变量\n",
    "for i, features in enumerate(top_features):\n",
    "    print(f\"主成分{i+1}与以下物理变量最相关：\", features)\n"
   ]
  },
  {
   "cell_type": "markdown",
   "metadata": {},
   "source": [
    "CCA"
   ]
  },
  {
   "cell_type": "code",
   "execution_count": 8,
   "metadata": {},
   "outputs": [],
   "source": [
    "excel_path = f'C:\\\\Users\\\\haokw\\\\Documents\\\\GitHub\\\\gaolu\\\\MPC\\\\高炉\\\\0数据处理\\\\新输入输出模式\\\\1h_mean.xlsx'\n",
    "df_in = pd.read_excel(excel_path, sheet_name='1h_mean_all') \n",
    "excel_path = f'C:\\\\Users\\\\haokw\\\\Documents\\\\GitHub\\\\gaolu\\\\MPC\\\\高炉\\\\0数据处理\\\\新输入输出模式\\\\1h_mean.xlsx'\n",
    "df_out = pd.read_excel(excel_path, sheet_name='原始输出') \n"
   ]
  },
  {
   "cell_type": "code",
   "execution_count": 9,
   "metadata": {},
   "outputs": [
    {
     "name": "stdout",
     "output_type": "stream",
     "text": [
      "<class 'pandas.core.frame.DataFrame'>\n",
      "RangeIndex: 800 entries, 0 to 799\n",
      "Data columns (total 9 columns):\n",
      " #   Column  Non-Null Count  Dtype  \n",
      "---  ------  --------------  -----  \n",
      " 0   富氧流量    800 non-null    float64\n",
      " 1   冷风流量    800 non-null    float64\n",
      " 2   富氧压力    800 non-null    float64\n",
      " 3   冷风压力    800 non-null    float64\n",
      " 4   热风压力    800 non-null    float64\n",
      " 5   冷风温度    800 non-null    float64\n",
      " 6   热风温度    800 non-null    float64\n",
      " 7   鼓风湿度    800 non-null    float64\n",
      " 8   设定喷煤量   800 non-null    float64\n",
      "dtypes: float64(9)\n",
      "memory usage: 56.4 KB\n"
     ]
    }
   ],
   "source": [
    "df_in2 = df_in.copy()\n",
    "df_in2 = df_in2.iloc[0:800,:]\n",
    "df_in2.head()\n",
    "df_in2.tail()\n",
    "df_in2.drop(columns=['主参数时间戳','主参数时间戳2','时间戳h', '透气性指数', 'CO', 'H2', 'CO2', '标准风速', '鼓风动能','炉腹煤气量',\n",
    "                '炉腹煤气指数', '理论燃烧温度', '顶压', '顶压2', '顶压3', '顶压4', '全压差',\n",
    "                '实际风速','顶温东北', '顶温西南', '顶温西北', '顶温东南', '顶温下降管', '阻力系数',\n",
    "                '本小时实际喷煤量', '上小时实际喷煤量','富氧率', '冷风压力2', '热风压力2'\n",
    "], inplace=True)\n",
    "df_in2.info()\n",
    "\n",
    "data_in = df_in2.values\n",
    "columns_name = df_in2.columns.values\n"
   ]
  },
  {
   "cell_type": "code",
   "execution_count": 10,
   "metadata": {},
   "outputs": [
    {
     "name": "stdout",
     "output_type": "stream",
     "text": [
      "<class 'pandas.core.frame.DataFrame'>\n",
      "RangeIndex: 800 entries, 0 to 799\n",
      "Data columns (total 25 columns):\n",
      " #   Column  Non-Null Count  Dtype  \n",
      "---  ------  --------------  -----  \n",
      " 0   富氧率     800 non-null    float64\n",
      " 1   透气性指数   800 non-null    float64\n",
      " 2   标准风速    800 non-null    float64\n",
      " 3   富氧流量    800 non-null    float64\n",
      " 4   冷风流量    800 non-null    float64\n",
      " 5   鼓风动能    800 non-null    float64\n",
      " 6   炉腹煤气量   800 non-null    float64\n",
      " 7   炉腹煤气指数  800 non-null    float64\n",
      " 8   理论燃烧温度  800 non-null    float64\n",
      " 9   顶压      800 non-null    float64\n",
      " 10  富氧压力    800 non-null    float64\n",
      " 11  冷风压力    800 non-null    float64\n",
      " 12  全压差     800 non-null    float64\n",
      " 13  热风压力    800 non-null    float64\n",
      " 14  实际风速    800 non-null    float64\n",
      " 15  冷风温度    800 non-null    float64\n",
      " 16  热风温度    800 non-null    float64\n",
      " 17  顶温东北    800 non-null    float64\n",
      " 18  顶温西南    800 non-null    float64\n",
      " 19  顶温西北    800 non-null    float64\n",
      " 20  顶温东南    800 non-null    float64\n",
      " 21  顶温下降管   800 non-null    float64\n",
      " 22  阻力系数    800 non-null    float64\n",
      " 23  鼓风湿度    800 non-null    float64\n",
      " 24  设定喷煤量   800 non-null    float64\n",
      "dtypes: float64(25)\n",
      "memory usage: 156.4 KB\n"
     ]
    }
   ],
   "source": [
    "df_in2 = df_in.copy()\n",
    "df_in2 = df_in2.iloc[0:800,:]\n",
    "df_in2.head()\n",
    "df_in2.tail()\n",
    "df_in2.drop(columns=['主参数时间戳','主参数时间戳2','时间戳h', 'CO', 'H2', 'CO2', \n",
    "                    \n",
    "                '顶压2', '顶压3', '顶压4',\n",
    "                \n",
    "                '本小时实际喷煤量', '上小时实际喷煤量', '冷风压力2', '热风压力2'], inplace=True)\n",
    "df_in2.info()\n",
    "\n",
    "data_in = df_in2.values\n",
    "columns_name = df_in2.columns.values\n"
   ]
  },
  {
   "cell_type": "code",
   "execution_count": 11,
   "metadata": {},
   "outputs": [
    {
     "name": "stdout",
     "output_type": "stream",
     "text": [
      "<class 'pandas.core.frame.DataFrame'>\n",
      "RangeIndex: 800 entries, 1 to 800\n",
      "Data columns (total 2 columns):\n",
      " #   Column     Non-Null Count  Dtype  \n",
      "---  ------     --------------  -----  \n",
      " 0   铁水硅含量[SI]  800 non-null    float64\n",
      " 1   铁水温度[MIT]  800 non-null    float64\n",
      "dtypes: float64(2)\n",
      "memory usage: 12.6 KB\n"
     ]
    }
   ],
   "source": [
    "df_out2 = df_out.copy()\n",
    "df_out2 = df_out2.iloc[1:1+800,:]\n",
    "df_out2.head(5)\n",
    "df_out2.tail(5)\n",
    "df_out2.drop(columns=['时间戳h','时间戳10m'], inplace=True)\n",
    "df_out2.info()\n",
    "data_out = df_out2.values\n"
   ]
  },
  {
   "cell_type": "code",
   "execution_count": 12,
   "metadata": {},
   "outputs": [
    {
     "data": {
      "text/plain": [
       "(800, 25)"
      ]
     },
     "execution_count": 12,
     "metadata": {},
     "output_type": "execute_result"
    }
   ],
   "source": [
    "data_in.shape\n"
   ]
  },
  {
   "cell_type": "code",
   "execution_count": 13,
   "metadata": {},
   "outputs": [],
   "source": [
    "# 计算每个特征的均值和标准差\n",
    "means = np.mean(data_in, axis=0)\n",
    "stds = np.std(data_in, axis=0)\n",
    "\n",
    "# 对每个特征进行归一化\n",
    "normalized_data_in = (data_in - means) / stds\n",
    "\n",
    "\n",
    "# 计算每个特征的均值和标准差\n",
    "means = np.mean(data_out, axis=0)\n",
    "stds = np.std(data_out, axis=0)\n",
    "\n",
    "# 对每个特征进行归一化\n",
    "normalized_data_out = (data_out - means) / stds\n"
   ]
  },
  {
   "cell_type": "code",
   "execution_count": 14,
   "metadata": {},
   "outputs": [
    {
     "name": "stdout",
     "output_type": "stream",
     "text": [
      "(800, 25)\n",
      "(800, 2)\n",
      "[0.98286288 0.18433817]\n"
     ]
    }
   ],
   "source": [
    "import numpy as np\n",
    "from scipy.linalg import svd\n",
    "\n",
    "# 生成示例数据\n",
    "X = normalized_data_in  # 第一组变量，100个样本，每个样本5个特征\n",
    "Y = normalized_data_out  # 第二组变量，与第一组对应，每个样本5个特征\n",
    "print(X.shape)\n",
    "print(Y.shape)\n",
    "\n",
    "# 计算CCA\n",
    "U, _, Vt = svd(np.dot(X.T, Y))\n",
    "\n",
    "# 提取典型变量\n",
    "C1 = np.dot(X, U[:, 0])  # 第一组典型变量\n",
    "C2 = np.dot(Y, Vt.T[:, 0])  # 第二组典型变量\n",
    "print(Vt.T[:, 0])\n"
   ]
  },
  {
   "cell_type": "code",
   "execution_count": 15,
   "metadata": {},
   "outputs": [
    {
     "data": {
      "text/plain": [
       "(800,)"
      ]
     },
     "execution_count": 15,
     "metadata": {},
     "output_type": "execute_result"
    }
   ],
   "source": [
    "C2.shape\n"
   ]
  },
  {
   "cell_type": "code",
   "execution_count": 16,
   "metadata": {},
   "outputs": [
    {
     "data": {
      "text/plain": [
       "array([[1.        , 0.59754496],\n",
       "       [0.59754496, 1.        ]])"
      ]
     },
     "execution_count": 16,
     "metadata": {},
     "output_type": "execute_result"
    }
   ],
   "source": [
    "np.corrcoef(C1.T, C2.T)\n"
   ]
  },
  {
   "cell_type": "code",
   "execution_count": 17,
   "metadata": {},
   "outputs": [],
   "source": [
    "\n",
    "from sklearn.metrics import r2_score\n"
   ]
  },
  {
   "cell_type": "code",
   "execution_count": null,
   "metadata": {},
   "outputs": [],
   "source": [
    "\n"
   ]
  },
  {
   "cell_type": "code",
   "execution_count": 19,
   "metadata": {},
   "outputs": [
    {
     "name": "stdout",
     "output_type": "stream",
     "text": [
      "富氧率 -0.5262973954280458 0.5262973954280458\n",
      "透气性指数 0.4941670618502941 0.4941670618502941\n",
      "标准风速 0.3549398800623601 0.3549398800623601\n",
      "富氧流量 -0.5130530240395157 0.5130530240395157\n",
      "冷风流量 0.35495710503058764 0.35495710503058764\n",
      "鼓风动能 -0.5545813678557793 0.5545813678557793\n",
      "炉腹煤气量 -0.28817415573239014 0.28817415573239014\n",
      "炉腹煤气指数 -0.2881742084970967 0.2881742084970967\n",
      "理论燃烧温度 -0.513308390778597 0.513308390778597\n",
      "顶压 -0.15083083493253427 0.15083083493253427\n",
      "富氧压力 -0.18759749669941944 0.18759749669941944\n",
      "冷风压力 -0.3116177582442027 0.3116177582442027\n",
      "全压差 -0.28744432405020665 0.28744432405020665\n",
      "热风压力 -0.28237888386983484 0.28237888386983484\n",
      "实际风速 -0.6331848130133858 0.6331848130133858\n",
      "冷风温度 0.07441940063757221 0.07441940063757221\n",
      "热风温度 -0.6573231290167423 0.6573231290167423\n",
      "顶温东北 0.44742864293968115 0.44742864293968115\n",
      "顶温西南 0.40799482765655437 0.40799482765655437\n",
      "顶温西北 0.4826995575120647 0.4826995575120647\n",
      "顶温东南 0.48023474959409623 0.48023474959409623\n",
      "顶温下降管 0.5597132654001765 0.5597132654001765\n",
      "阻力系数 -0.0006038511116547979 0.0006038511116547979\n",
      "鼓风湿度 -0.342378740143042 0.342378740143042\n",
      "设定喷煤量 -0.6465112665434809 0.6465112665434809\n"
     ]
    },
    {
     "ename": "IndexError",
     "evalue": "index 25 is out of bounds for axis 0 with size 25",
     "output_type": "error",
     "traceback": [
      "\u001b[1;31m---------------------------------------------------------------------------\u001b[0m",
      "\u001b[1;31mIndexError\u001b[0m                                Traceback (most recent call last)",
      "Cell \u001b[1;32mIn[19], line 11\u001b[0m\n\u001b[0;32m      9\u001b[0m \u001b[38;5;66;03m# 输出结果\u001b[39;00m\n\u001b[0;32m     10\u001b[0m \u001b[38;5;28;01mfor\u001b[39;00m i, corr_coeff \u001b[38;5;129;01min\u001b[39;00m \u001b[38;5;28menumerate\u001b[39m(correlation_coeffs):\n\u001b[1;32m---> 11\u001b[0m     \u001b[38;5;28mprint\u001b[39m(\u001b[38;5;124mf\u001b[39m\u001b[38;5;124m\"\u001b[39m\u001b[38;5;132;01m{\u001b[39;00mcolumns_name[i]\u001b[38;5;132;01m}\u001b[39;00m\u001b[38;5;124m \u001b[39m\u001b[38;5;132;01m{\u001b[39;00mcorr_coeff\u001b[38;5;132;01m}\u001b[39;00m\u001b[38;5;124m \u001b[39m\u001b[38;5;132;01m{\u001b[39;00mnp\u001b[38;5;241m.\u001b[39mfabs(corr_coeff)\u001b[38;5;132;01m}\u001b[39;00m\u001b[38;5;124m\"\u001b[39m)\n",
      "\u001b[1;31mIndexError\u001b[0m: index 25 is out of bounds for axis 0 with size 25"
     ]
    }
   ],
   "source": [
    "import numpy as np\n",
    "\n",
    "# 示例数据\n",
    "normalized_data_in = normalized_data_in  # 第一组变量，800个样本，每个样本9个特征\n",
    "recombination_data_out = C2  # 第二组变量，800个样本，每个样本1个特征\n",
    "\n",
    "# 计算每个特征与 normalized_data_out 的皮尔逊相关系数\n",
    "correlation_coeffs = np.corrcoef(normalized_data_in.T, recombination_data_out.T)[:, -1]\n",
    "# 输出结果\n",
    "for i, corr_coeff in enumerate(correlation_coeffs):\n",
    "    print(f\"{columns_name[i]} {corr_coeff} {np.fabs(corr_coeff)}\")\n",
    "\n"
   ]
  }
 ],
 "metadata": {
  "kernelspec": {
   "display_name": "py39_tf",
   "language": "python",
   "name": "python3"
  },
  "language_info": {
   "codemirror_mode": {
    "name": "ipython",
    "version": 3
   },
   "file_extension": ".py",
   "mimetype": "text/x-python",
   "name": "python",
   "nbconvert_exporter": "python",
   "pygments_lexer": "ipython3",
   "version": "3.9.18"
  }
 },
 "nbformat": 4,
 "nbformat_minor": 2
}
