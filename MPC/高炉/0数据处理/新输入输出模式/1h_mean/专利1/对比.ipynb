{
 "cells": [
  {
   "cell_type": "code",
   "execution_count": 3,
   "id": "b3add017",
   "metadata": {},
   "outputs": [
    {
     "name": "stdout",
     "output_type": "stream",
     "text": [
      "不同像素数量: 0 / 332112\n",
      "差异比例: 0.00%\n"
     ]
    }
   ],
   "source": [
    "from PIL import Image  # 图像处理库\n",
    "import numpy as np     # 数组处理库\n",
    "\n",
    "# 加载两张图像（Load images）\n",
    "img1 = Image.open(r\"C:\\Users\\Admin\\Desktop\\output.png\").convert('RGB')\n",
    "img2 = Image.open(r\"C:\\Users\\Admin\\Desktop\\output1.png\").convert('RGB')\n",
    "\n",
    "# 调整大小一致（Make sure same size）\n",
    "if img1.size != img2.size:\n",
    "    raise ValueError(\"两张图片尺寸不同，无法进行逐像素比较\")\n",
    "\n",
    "# 转换为 NumPy 数组（Convert to numpy arrays）\n",
    "arr1 = np.array(img1)\n",
    "arr2 = np.array(img2)\n",
    "\n",
    "# 计算差异（Compute difference）\n",
    "diff = np.abs(arr1.astype(int) - arr2.astype(int))\n",
    "\n",
    "# 找出差异像素（Find differing pixels）\n",
    "diff_mask = np.any(diff > 0, axis=-1)  # 在 RGB 三个通道中任意有不同就视为有差异\n",
    "\n",
    "# 统计不同像素的数量（Count differing pixels）\n",
    "diff_count = np.sum(diff_mask)\n",
    "total_pixels = diff_mask.size\n",
    "\n",
    "print(f\"不同像素数量: {diff_count} / {total_pixels}\")\n",
    "print(f\"差异比例: {diff_count / total_pixels:.2%}\")\n"
   ]
  }
 ],
 "metadata": {
  "kernelspec": {
   "display_name": "py39_tf",
   "language": "python",
   "name": "python3"
  },
  "language_info": {
   "codemirror_mode": {
    "name": "ipython",
    "version": 3
   },
   "file_extension": ".py",
   "mimetype": "text/x-python",
   "name": "python",
   "nbconvert_exporter": "python",
   "pygments_lexer": "ipython3",
   "version": "3.9.18"
  }
 },
 "nbformat": 4,
 "nbformat_minor": 5
}
