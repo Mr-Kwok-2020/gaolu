{
 "cells": [
  {
   "cell_type": "code",
   "execution_count": 79,
   "metadata": {},
   "outputs": [],
   "source": [
    "import pandas as pd\n",
    "# 库文件\n",
    "import numpy as np\n",
    "import matplotlib.pyplot as plt\n",
    "import warnings\n",
    "warnings.filterwarnings(\"ignore\", category=UserWarning)\n",
    "warnings.filterwarnings(\"ignore\", category=FutureWarning)\n",
    "from sklearn.model_selection import train_test_split\n",
    "from sklearn.preprocessing import StandardScaler\n",
    "from skopt import gp_minimize\n",
    "from sklearn.svm import SVR\n",
    "from sklearn.metrics import mean_squared_error\n",
    "from scipy.optimize import minimize\n",
    "from sklearn.metrics.pairwise import rbf_kernel\n",
    "import pandas as pd\n",
    "import tensorflow as tf\n",
    "import torch\n",
    "import torch.nn as nn\n",
    "import torch.optim as optim\n",
    "import matplotlib.pyplot as plt\n",
    "from matplotlib.font_manager import FontProperties\n",
    "# 设置中文字体\n",
    "font = FontProperties(fname=r\"c:\\windows\\fonts\\simsun.ttc\", size=12)  # 替换为你的中文字体文件路径\n"
   ]
  },
  {
   "cell_type": "code",
   "execution_count": 80,
   "metadata": {},
   "outputs": [],
   "source": [
    "# 替换成你的Excel文件路径\n",
    "file_path = \"高炉数据原件 - 副本.xlsx\"\n",
    "\n",
    "# 读取Excel文件\n",
    "df_tieshui = pd.read_excel(file_path, sheet_name='铁水质量')\n",
    "df_temp = pd.read_excel(file_path, sheet_name='铁水温度')\n",
    "df_params = pd.read_excel(file_path, sheet_name='主参数')\n",
    "\n"
   ]
  },
  {
   "cell_type": "code",
   "execution_count": 81,
   "metadata": {},
   "outputs": [
    {
     "name": "stdout",
     "output_type": "stream",
     "text": [
      "<class 'pandas.core.frame.DataFrame'>\n",
      "RangeIndex: 16741 entries, 0 to 16740\n",
      "Data columns (total 3 columns):\n",
      " #   Column  Non-Null Count  Dtype         \n",
      "---  ------  --------------  -----         \n",
      " 0   时间      16741 non-null  datetime64[ns]\n",
      " 1   铁水温度    16741 non-null  int64         \n",
      " 2   铁口编号    16741 non-null  object        \n",
      "dtypes: datetime64[ns](1), int64(1), object(1)\n",
      "memory usage: 392.5+ KB\n"
     ]
    }
   ],
   "source": [
    "df_temp.info()\n"
   ]
  },
  {
   "cell_type": "code",
   "execution_count": 82,
   "metadata": {},
   "outputs": [],
   "source": [
    "# 使用rename方法修改列名\n",
    "df_tieshui.rename(columns={'化验时间': '铁水时间戳'}, inplace=True)\n",
    "df_temp.rename(columns={'时间': '温度时间戳'}, inplace=True)\n",
    "df_params.rename(columns={'时间': '主参数时间戳'}, inplace=True)\n"
   ]
  },
  {
   "cell_type": "code",
   "execution_count": 83,
   "metadata": {},
   "outputs": [
    {
     "name": "stdout",
     "output_type": "stream",
     "text": [
      "<class 'pandas.core.frame.DataFrame'>\n",
      "RangeIndex: 16741 entries, 0 to 16740\n",
      "Data columns (total 3 columns):\n",
      " #   Column  Non-Null Count  Dtype  \n",
      "---  ------  --------------  -----  \n",
      " 0   温度时间戳   16741 non-null  float64\n",
      " 1   铁水温度    16741 non-null  int64  \n",
      " 2   铁口编号    16741 non-null  object \n",
      "dtypes: float64(1), int64(1), object(1)\n",
      "memory usage: 392.5+ KB\n"
     ]
    }
   ],
   "source": [
    "# 定义起始时间\n",
    "start_time ='2023-02-09 00:00:00'\n",
    "start_time_stamp = pd.Timestamp(start_time).timestamp()\n",
    "\n",
    "# 转换为时间戳并保存到新列\n",
    "tieshui_timestamp  = df_tieshui.iloc[:, 0].apply(lambda x: pd.Timestamp(x).timestamp())\n",
    "temp_timestamp  = df_temp.iloc[:, 0].apply(lambda x: pd.Timestamp(x).timestamp())\n",
    "params_timestamp  = df_params.iloc[:, 0].apply(lambda x: pd.Timestamp(x).timestamp())\n",
    "\n",
    "# 在后续步骤中使用新列进行进一步的操作\n",
    "sampling_time = 3600\n",
    "df_tieshui['铁水时间戳']  = (tieshui_timestamp - start_time_stamp) / sampling_time\n",
    "df_temp['温度时间戳']     = (temp_timestamp - start_time_stamp) / sampling_time\n",
    "df_params['主参数时间戳'] = (params_timestamp - start_time_stamp) / sampling_time\n",
    "df_temp.info()\n"
   ]
  },
  {
   "cell_type": "code",
   "execution_count": 84,
   "metadata": {},
   "outputs": [
    {
     "name": "stdout",
     "output_type": "stream",
     "text": [
      "<class 'pandas.core.frame.DataFrame'>\n",
      "RangeIndex: 7507 entries, 0 to 7506\n",
      "Data columns (total 6 columns):\n",
      " #   Column  Non-Null Count  Dtype  \n",
      "---  ------  --------------  -----  \n",
      " 0   铁口1时间戳  7216 non-null   float64\n",
      " 1   铁口1温度   7216 non-null   float64\n",
      " 2   铁口2时间戳  2018 non-null   float64\n",
      " 3   铁口2温度   2018 non-null   float64\n",
      " 4   铁口3时间戳  7507 non-null   float64\n",
      " 5   铁口3温度   7507 non-null   int64  \n",
      "dtypes: float64(5), int64(1)\n",
      "memory usage: 352.0 KB\n"
     ]
    }
   ],
   "source": [
    "# 将 '铁水温度' 和 '时间' 列按照 '铁口编号' 分组\n",
    "grouped_temp = df_temp.groupby('铁口编号')[['温度时间戳', '铁水温度']]\n",
    "\n",
    "# 创建三个新的DataFrame，用于存储拆分后的数据\n",
    "df_tieko1 = pd.DataFrame()\n",
    "df_tieko2 = pd.DataFrame()\n",
    "df_tieko3 = pd.DataFrame()\n",
    "\n",
    "# 遍历每个铁口的分组\n",
    "for tieko, group in grouped_temp:\n",
    "    # 重置索引并添加到相应的新DataFrame中\n",
    "    group = group.reset_index(drop=True)\n",
    "    \n",
    "    if tieko == '铁口1':\n",
    "        df_tieko1[['铁口1时间戳', '铁口1温度']] = group\n",
    "    elif tieko == '铁口2':\n",
    "        df_tieko2[['铁口2时间戳', '铁口2温度']] = group\n",
    "    elif tieko == '铁口3':\n",
    "        df_tieko3[['铁口3时间戳', '铁口3温度']] = group\n",
    "\n",
    "# 打印新的DataFrame的信息\n",
    "# print(\"铁口1温度:\")\n",
    "# print(df_tieko1.info())\n",
    "\n",
    "# print(\"\\n铁口2温度:\")\n",
    "# print(df_tieko2.info())\n",
    "\n",
    "# print(\"\\n铁口3温度:\")\n",
    "# print(df_tieko3.info())\n",
    "\n",
    "# 合并三个DataFrame\n",
    "df_tiekou = pd.concat([df_tieko1, df_tieko2, df_tieko3], axis=1)\n",
    "df_tiekou.info()\n"
   ]
  },
  {
   "cell_type": "code",
   "execution_count": 85,
   "metadata": {},
   "outputs": [
    {
     "name": "stdout",
     "output_type": "stream",
     "text": [
      "<class 'pandas.core.frame.DataFrame'>\n",
      "RangeIndex: 16252 entries, 0 to 16251\n",
      "Data columns (total 42 columns):\n",
      " #   Column  Non-Null Count  Dtype  \n",
      "---  ------  --------------  -----  \n",
      " 0   铁水时间戳   16252 non-null  float64\n",
      " 1   P       16252 non-null  float64\n",
      " 2   S       16252 non-null  float64\n",
      " 3   MN      16252 non-null  float64\n",
      " 4   SI      16252 non-null  float64\n",
      " 5   V       16252 non-null  float64\n",
      " 6   TI      16252 non-null  float64\n",
      " 7   As      16252 non-null  float64\n",
      " 8   铁口1时间戳  7216 non-null   float64\n",
      " 9   铁口1温度   7216 non-null   float64\n",
      " 10  铁口2时间戳  2018 non-null   float64\n",
      " 11  铁口2温度   2018 non-null   float64\n",
      " 12  铁口3时间戳  7507 non-null   float64\n",
      " 13  铁口3温度   7507 non-null   float64\n",
      " 14  主参数时间戳  7453 non-null   float64\n",
      " 15  富氧率     7453 non-null   float64\n",
      " 16  透气性指数   7453 non-null   float64\n",
      " 17  CO      7453 non-null   float64\n",
      " 18  H2      7453 non-null   float64\n",
      " 19  CO2     7453 non-null   float64\n",
      " 20  标准风速    7453 non-null   float64\n",
      " 21  富氧流量    7453 non-null   float64\n",
      " 22  冷风流量    7453 non-null   float64\n",
      " 23  鼓风动能    7453 non-null   float64\n",
      " 24  炉腹煤气量   7453 non-null   float64\n",
      " 25  炉腹煤气指数  7453 non-null   float64\n",
      " 26  理论燃烧温度  7453 non-null   float64\n",
      " 27  顶压      7453 non-null   float64\n",
      " 28  富氧压力    7453 non-null   float64\n",
      " 29  冷风压力    7453 non-null   float64\n",
      " 30  全压差     7453 non-null   float64\n",
      " 31  热风压力    7453 non-null   float64\n",
      " 32  实际风速    7453 non-null   float64\n",
      " 33  热风温度    7453 non-null   float64\n",
      " 34  顶温东北    7453 non-null   float64\n",
      " 35  顶温西南    7453 non-null   float64\n",
      " 36  顶温西北    7453 non-null   float64\n",
      " 37  顶温东南    7453 non-null   float64\n",
      " 38  阻力系数    7453 non-null   float64\n",
      " 39  鼓风湿度    7453 non-null   float64\n",
      " 40  设定喷煤量   7453 non-null   float64\n",
      " 41  上小时喷煤量  7436 non-null   float64\n",
      "dtypes: float64(42)\n",
      "memory usage: 5.2 MB\n"
     ]
    }
   ],
   "source": [
    "# 合并三个DataFrame\n",
    "df_combined = pd.concat([df_tieshui, df_tiekou, df_params], axis=1)\n",
    "# 打印或保存结果\n",
    "df_combined.info()\n"
   ]
  },
  {
   "cell_type": "code",
   "execution_count": 86,
   "metadata": {},
   "outputs": [
    {
     "data": {
      "text/plain": [
       "Index(['铁水时间戳', 'P', 'S', 'MN', 'SI', 'V', 'TI', 'As', '铁口1时间戳', '铁口1温度',\n",
       "       '铁口2时间戳', '铁口2温度', '铁口3时间戳', '铁口3温度', '主参数时间戳', '富氧率', '透气性指数', 'CO',\n",
       "       'H2', 'CO2', '标准风速', '富氧流量', '冷风流量', '鼓风动能', '炉腹煤气量', '炉腹煤气指数',\n",
       "       '理论燃烧温度', '顶压', '富氧压力', '冷风压力', '全压差', '热风压力', '实际风速', '热风温度', '顶温东北',\n",
       "       '顶温西南', '顶温西北', '顶温东南', '阻力系数', '鼓风湿度', '设定喷煤量', '上小时喷煤量'],\n",
       "      dtype='object')"
      ]
     },
     "execution_count": 86,
     "metadata": {},
     "output_type": "execute_result"
    }
   ],
   "source": [
    "df_combined.columns\n"
   ]
  },
  {
   "cell_type": "code",
   "execution_count": 87,
   "metadata": {},
   "outputs": [
    {
     "data": {
      "text/plain": [
       "[<matplotlib.lines.Line2D at 0x182c6ecd670>]"
      ]
     },
     "execution_count": 87,
     "metadata": {},
     "output_type": "execute_result"
    },
    {
     "data": {
      "image/png": "[encoded data removed]",
      "text/plain": [
       "<Figure size 640x480 with 1 Axes>"
      ]
     },
     "metadata": {},
     "output_type": "display_data"
    }
   ],
   "source": [
    "import numpy as np\n",
    "\n",
    "# 异常数据处理\n",
    "# 创建数据框副本以避免修改原始数据\n",
    "df_sheet_process = df_combined.copy()\n",
    "\n",
    "# 定义一个函数，用前后两个值的差值按照距离进行加权替换异常值\n",
    "def replace_outliers_with_weighted_diff(x, y):\n",
    "    # 检测异常值的索引\n",
    "    outliers_index = y.abs() < 1400.0  # 使用固定阈值，你可以根据实际情况调整\n",
    "    # 遍历异常值的索引\n",
    "    for idx in outliers_index[outliers_index].index:\n",
    "        # 获取异常值前一个和后一个值的索引\n",
    "        prev_idx = idx - 1 if idx - 1 >= 0 else idx\n",
    "        next_idx = idx + 1 if idx + 1 < len(y) else idx\n",
    "        # 计算当前 x 与前后两个 x 的距离\n",
    "        dist_prev = abs(x[idx] - x[prev_idx])\n",
    "        dist_next = abs(x[next_idx] - x[idx])\n",
    "        total_dist = dist_prev + dist_next\n",
    "        # 计算权重\n",
    "        weight_prev = dist_next / total_dist\n",
    "        weight_next = dist_prev / total_dist\n",
    "        # 计算前后两个值的差值\n",
    "        diff = y[next_idx] - y[prev_idx]\n",
    "        # 根据权重进行插值\n",
    "        interpolated_value = y[prev_idx] + weight_prev * diff\n",
    "        # 用插值结果替代异常值\n",
    "        y[idx] = interpolated_value\n",
    "\n",
    "# 对指定列应用替代异常值的函数\n",
    "replace_outliers_with_weighted_diff(df_sheet_process['铁口1时间戳'], df_sheet_process['铁口1温度'])\n",
    "\n",
    "# 绘图\n",
    "plt.plot(df_combined['铁口1时间戳'], df_combined['铁口1温度'], 'r')\n",
    "plt.plot(df_sheet_process['铁口1时间戳'], df_sheet_process['铁口1温度'], 'g')\n",
    "\n"
   ]
  },
  {
   "cell_type": "code",
   "execution_count": 89,
   "metadata": {},
   "outputs": [],
   "source": [
    "# 将 df_combined 添加到新的 ExcelWriter 中\n",
    "with pd.ExcelWriter(\"数据-时间戳.xlsx\", engine='xlsxwriter') as writer:\n",
    "    # 将其他 sheet 写入新文件\n",
    "    df_combined.to_excel(writer, sheet_name='Sheet1', index=False)\n",
    "    df_sheet_process.to_excel(writer, sheet_name='Sheet2', index=False)\n"
   ]
  },
  {
   "cell_type": "code",
   "execution_count": null,
   "metadata": {},
   "outputs": [],
   "source": [
    "print(df_combined.columns)\n"
   ]
  }
 ],
 "metadata": {
  "kernelspec": {
   "display_name": "py39_tf",
   "language": "python",
   "name": "python3"
  },
  "language_info": {
   "codemirror_mode": {
    "name": "ipython",
    "version": 3
   },
   "file_extension": ".py",
   "mimetype": "text/x-python",
   "name": "python",
   "nbconvert_exporter": "python",
   "pygments_lexer": "ipython3",
   "version": "3.9.18"
  }
 },
 "nbformat": 4,
 "nbformat_minor": 2
}
