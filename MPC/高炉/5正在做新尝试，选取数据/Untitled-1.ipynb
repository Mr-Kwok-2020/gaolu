{
 "cells": [
  {
   "cell_type": "code",
   "execution_count": 27,
   "metadata": {},
   "outputs": [],
   "source": [
    "from PIL import Image\n",
    "import numpy as np\n",
    "\n",
    "# 读取照片\n",
    "image_path = '2.png'\n",
    "image = Image.open(image_path)\n",
    "\n",
    "# 将图像转换为NumPy数组\n",
    "image_array = np.array(image)\n",
    "\n",
    "# 定义要替换的颜色范围\n",
    "a1 = 30\n",
    "a2 = 95\n",
    "lower_blue = np.array([a1, a1, a1, 0])  # 蓝色的下界，包括 alpha 通道\n",
    "upper_blue = np.array([a2, a2, a2, 255])  # 蓝色的上界，包括 alpha 通道\n",
    "\n",
    "# 创建掩码，标识颜色范围内的像素\n",
    "mask = np.all((image_array >= lower_blue) & (image_array <= upper_blue), axis=-1)\n",
    "# 将符合条件的像素替换为红色，包括 alpha 通道\n",
    "image_array[mask] = [255, 0, 0, 255]\n",
    "\n",
    "# 去除alpha通道，将其合并为不透明\n",
    "result_image_rgb = Image.fromarray(image_array[:, :, :3], 'RGB')\n",
    "\n",
    "# 保存结果为JPEG格式\n",
    "result_image_rgb.save('result_image2.jpg')\n"
   ]
  },
  {
   "cell_type": "code",
   "execution_count": 29,
   "metadata": {},
   "outputs": [],
   "source": [
    "from PIL import Image\n",
    "import numpy as np\n",
    "\n",
    "# Define the color replacement range\n",
    "a1 = 30\n",
    "a2 = 95\n",
    "lower_blue = np.array([a1, a1, a1, 0])  # Lower bound including alpha channel\n",
    "upper_blue = np.array([a2, a2, a2, 255])  # Upper bound including alpha channel\n",
    "\n",
    "# Loop through image filenames\n",
    "for i in range(1, 9):\n",
    "    # Read the image\n",
    "    image_path = f'{i}.png'\n",
    "    image = Image.open(image_path)\n",
    "\n",
    "    # Convert the image to a NumPy array\n",
    "    image_array = np.array(image)\n",
    "\n",
    "    # Create a mask to identify pixels within the color range\n",
    "    mask = np.all((image_array >= lower_blue) & (image_array <= upper_blue), axis=-1)\n",
    "\n",
    "    # Replace pixels within the color range with red (including alpha channel)\n",
    "    image_array[mask] = [255, 0, 0, 255]\n",
    "\n",
    "    # Remove the alpha channel and merge as opaque\n",
    "    result_image_rgb = Image.fromarray(image_array[:, :, :3], 'RGB')\n",
    "\n",
    "    # Save the result as JPEG\n",
    "    result_image_rgb.save(f'result_image_{i}.jpg')\n"
   ]
  }
 ],
 "metadata": {
  "kernelspec": {
   "display_name": "py39_tf",
   "language": "python",
   "name": "python3"
  },
  "language_info": {
   "codemirror_mode": {
    "name": "ipython",
    "version": 3
   },
   "file_extension": ".py",
   "mimetype": "text/x-python",
   "name": "python",
   "nbconvert_exporter": "python",
   "pygments_lexer": "ipython3",
   "version": "3.9.18"
  }
 },
 "nbformat": 4,
 "nbformat_minor": 2
}
