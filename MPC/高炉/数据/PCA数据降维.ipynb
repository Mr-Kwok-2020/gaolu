{
 "cells": [
  {
   "cell_type": "code",
   "execution_count": 1,
   "metadata": {},
   "outputs": [],
   "source": [
    "# 库文件\n",
    "import numpy as np\n",
    "import matplotlib.pyplot as plt\n",
    "import warnings\n",
    "warnings.filterwarnings(\"ignore\", category=UserWarning)\n",
    "warnings.filterwarnings(\"ignore\", category=FutureWarning)\n",
    "from sklearn.model_selection import train_test_split\n",
    "from sklearn.preprocessing import StandardScaler\n",
    "from skopt import gp_minimize\n",
    "from sklearn.svm import SVR\n",
    "from sklearn.metrics import mean_squared_error\n",
    "from scipy.optimize import minimize\n",
    "from sklearn.metrics.pairwise import rbf_kernel\n",
    "import pandas as pd\n",
    "import tensorflow as tf\n",
    "import torch\n",
    "import torch.nn as nn\n",
    "import torch.optim as optim\n",
    "import matplotlib.pyplot as plt\n",
    "from matplotlib.font_manager import FontProperties\n",
    "# 设置中文字体\n",
    "font = FontProperties(fname=r\"c:\\windows\\fonts\\simsun.ttc\", size=12)  # 替换为你的中文字体文件路径\n",
    "from sklearn.preprocessing import StandardScaler\n"
   ]
  },
  {
   "cell_type": "code",
   "execution_count": 2,
   "metadata": {},
   "outputs": [
    {
     "data": {
      "text/plain": [
       "Index(['SI插补', '铁口1温度插补', '主参数时间戳', '富氧率', '透气性指数', 'CO', 'H2', 'CO2', '标准风速',\n",
       "       '富氧流量', '冷风流量', '鼓风动能', '炉腹煤气量', '炉腹煤气指数', '理论燃烧温度', '顶压', '富氧压力',\n",
       "       '冷风压力', '全压差', '热风压力', '实际风速', '热风温度', '顶温东北', '顶温西南', '顶温西北', '顶温东南',\n",
       "       '阻力系数', '鼓风湿度', '设定喷煤量', '上小时喷煤量'],\n",
       "      dtype='object')"
      ]
     },
     "execution_count": 2,
     "metadata": {},
     "output_type": "execute_result"
    }
   ],
   "source": [
    "# 读取Excel文件\n",
    "excel_path = '数据-时间戳.xlsx'\n",
    "df_sheet = pd.read_excel(excel_path, sheet_name='Sheet4') \n",
    "df_sheet.columns\n"
   ]
  },
  {
   "cell_type": "code",
   "execution_count": 10,
   "metadata": {},
   "outputs": [
    {
     "name": "stdout",
     "output_type": "stream",
     "text": [
      "Top features: ['热风温度', '实际风速', '上小时喷煤量', '设定喷煤量', '理论燃烧温度', 'CO2', '富氧率', '富氧流量', '鼓风动能', '顶温西北', '顶温东南', '顶温东北', '顶温西南', '透气性指数', '冷风压力', 'SI插补', '热风压力', '炉腹煤气量', '炉腹煤气指数', '鼓风湿度', '顶压', '标准风速', '冷风流量', '主参数时间戳', '全压差', 'H2', 'CO', '富氧压力', '铁口1温度插补', '阻力系数']\n",
      "Correlation values:\n",
      "热风温度      1.000000\n",
      "实际风速      0.937547\n",
      "上小时喷煤量    0.903158\n",
      "设定喷煤量     0.901029\n",
      "理论燃烧温度    0.893648\n",
      "CO2       0.893573\n",
      "富氧率       0.888062\n",
      "富氧流量      0.878919\n",
      "鼓风动能      0.844087\n",
      "顶温西北      0.801234\n",
      "顶温东南      0.795087\n",
      "顶温东北      0.781582\n",
      "顶温西南      0.745990\n",
      "透气性指数     0.695480\n",
      "冷风压力      0.641615\n",
      "SI插补      0.629918\n",
      "热风压力      0.590451\n",
      "炉腹煤气量     0.552842\n",
      "炉腹煤气指数    0.552825\n",
      "鼓风湿度      0.527328\n",
      "顶压        0.502411\n",
      "标准风速      0.481639\n",
      "冷风流量      0.481272\n",
      "主参数时间戳    0.433167\n",
      "Name: 热风温度, dtype: float64\n"
     ]
    }
   ],
   "source": [
    "# 计算每个参数与高炉温度的相关性\n",
    "correlations = df_sheet.corr()['热风温度'].abs().sort_values(ascending=False)\n",
    "\n",
    "# 选择最相关的前几个参数\n",
    "top_features = correlations.index.tolist()\n",
    "# 打印最相关的参数\n",
    "print(\"Top features:\", top_features)\n",
    "# 查看具体相关性数值\n",
    "print(\"Correlation values:\")\n",
    "print(correlations.head(24))\n"
   ]
  },
  {
   "cell_type": "code",
   "execution_count": 4,
   "metadata": {},
   "outputs": [
    {
     "data": {
      "text/plain": [
       "[<matplotlib.lines.Line2D at 0x260ff3f37c0>]"
      ]
     },
     "execution_count": 4,
     "metadata": {},
     "output_type": "execute_result"
    },
    {
     "data": {
      "image/png": "[encoded data removed]",
      "text/plain": [
       "<Figure size 640x480 with 1 Axes>"
      ]
     },
     "metadata": {},
     "output_type": "display_data"
    }
   ],
   "source": [
    "plt.plot(df_sheet['主参数时间戳'])\n"
   ]
  }
 ],
 "metadata": {
  "kernelspec": {
   "display_name": "py39_tf",
   "language": "python",
   "name": "python3"
  },
  "language_info": {
   "codemirror_mode": {
    "name": "ipython",
    "version": 3
   },
   "file_extension": ".py",
   "mimetype": "text/x-python",
   "name": "python",
   "nbconvert_exporter": "python",
   "pygments_lexer": "ipython3",
   "version": "3.9.18"
  }
 },
 "nbformat": 4,
 "nbformat_minor": 2
}
