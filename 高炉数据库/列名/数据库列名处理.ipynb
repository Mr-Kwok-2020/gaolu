{
 "cells": [
  {
   "cell_type": "code",
   "execution_count": 14,
   "metadata": {},
   "outputs": [
    {
     "name": "stdout",
     "output_type": "stream",
     "text": [
      "数据已处理完成，并保存到 C:\\Users\\Admin\\Documents\\GitHub\\VScode\\高炉数据库\\列名\\\\241212数据库列名_处理结果.xlsx\n"
     ]
    }
   ],
   "source": [
    "import pandas as pd\n",
    "\n",
    "# 加载数据\n",
    "dir = r\"C:\\Users\\Admin\\Documents\\GitHub\\VScode\\高炉数据库\\列名\\\\\"  # 使用原始字符串\n",
    "file_name = \"241212数据库列名\"\n",
    "input_file = dir + file_name + \".csv\"  # 替换为你的文件名\n",
    "df = pd.read_csv(input_file, usecols=[0, 1], header=None, names=['视图名称', '列名'])\n",
    "\n",
    "# 按视图名称分组，并重组表格\n",
    "grouped = df.groupby('视图名称')['列名'].apply(list).reset_index()\n",
    "\n",
    "# 创建新格式的数据表\n",
    "result = pd.DataFrame()\n",
    "\n",
    "for index, row in grouped.iterrows():\n",
    "    view_name = row['视图名称']\n",
    "    columns = row['列名']\n",
    "    \n",
    "    # 将视图名称和列名放入数据框\n",
    "    temp_df = pd.DataFrame({view_name: [view_name] + columns})\n",
    "    result = pd.concat([result, temp_df], axis=1)\n",
    "\n",
    "# 保存为新文件，文件名是原文件名后加处理结果\n",
    "output_file = dir + file_name + \"_处理结果.xlsx\"  \n",
    "result.to_excel(output_file, index=False, header=False)\n",
    "\n",
    "print(f\"数据已处理完成，并保存到 {output_file}\")\n"
   ]
  }
 ],
 "metadata": {
  "kernelspec": {
   "display_name": "py39_tf",
   "language": "python",
   "name": "python3"
  },
  "language_info": {
   "codemirror_mode": {
    "name": "ipython",
    "version": 3
   },
   "file_extension": ".py",
   "mimetype": "text/x-python",
   "name": "python",
   "nbconvert_exporter": "python",
   "pygments_lexer": "ipython3",
   "version": "3.9.18"
  }
 },
 "nbformat": 4,
 "nbformat_minor": 2
}
